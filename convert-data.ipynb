{
 "cells": [
  {
   "cell_type": "code",
   "execution_count": null,
   "metadata": {},
   "outputs": [],
   "source": [
    "import os\n",
    "import cv2\n",
    "import json\n",
    "import numpy as np\n",
    "import urllib.request\n",
    "\n",
    "def load_json_from_scalabel():\n",
    "    scalabel_data = []\n",
    "    scalabel_path = anno_path + 'scalabel' # path to directory containing .json files\n",
    "    for json_file in sorted(os.listdir(scalabel_path)):\n",
    "        with open(os.path.join(scalabel_path, json_file)) as f:\n",
    "            data = json.load(f)\n",
    "            scalabel_data.extend(data)\n",
    "    return scalabel_data"
   ]
  },
  {
   "cell_type": "code",
   "execution_count": null,
   "metadata": {},
   "outputs": [],
   "source": [
    "def url_to_image(url):\n",
    "    resp = urllib.request.urlopen(url)\n",
    "    image = np.asarray(bytearray(resp.read()), dtype=\"uint8\")\n",
    "    image = cv2.imdecode(image, cv2.IMREAD_COLOR)\n",
    "    return image"
   ]
  },
  {
   "cell_type": "code",
   "execution_count": null,
   "metadata": {},
   "outputs": [],
   "source": [
    "def download_images_from_s3():\n",
    "    scalabel_data = load_json_from_scalabel()\n",
    "    for index, img in enumerate(scalabel_data):\n",
    "        image = url_to_image(img['name'])\n",
    "        image_name = img['name'].replace('/', '_')\n",
    "        cv2.imwrite(image_name, image)\n",
    "    print(index, len(scalabel_data))"
   ]
  },
  {
   "cell_type": "code",
   "execution_count": null,
   "metadata": {},
   "outputs": [],
   "source": [
    "def extract_params_from_scalabel(img):\n",
    "    points = []\n",
    "    img_path = '' \n",
    "    try:\n",
    "        for anno in img['labels']:\n",
    "            global h,w\n",
    "            poly2d_data = anno['poly2d']\n",
    "            for p in poly2d_data:\n",
    "                points.append(p['vertices'])\n",
    "            image_name = img['name'].replace('/', '_')\n",
    "            img = cv2.imread(img_path + image_name)\n",
    "            h, w = img.shape[:2] # This is imageHeight, imageWidth\n",
    "    except:\n",
    "        pass\n",
    "    return h, w"
   ]
  },
  {
   "cell_type": "code",
   "execution_count": null,
   "metadata": {},
   "outputs": [],
   "source": [
    "def getLabelAndPoints(img):\n",
    "    label = []\n",
    "    points = []\n",
    "    try:\n",
    "        for i in img['labels']:\n",
    "            label.append(i['category'])\n",
    "            poly2d_data = i['poly2d']\n",
    "            for p in poly2d_data:\n",
    "                points.append(p['vertices'])\n",
    "    except:\n",
    "        pass\n",
    "    return label, points"
   ]
  },
  {
   "cell_type": "code",
   "execution_count": null,
   "metadata": {},
   "outputs": [],
   "source": [
    "def convert_scalabel_to_dataturks():\n",
    "    scalabel_data = load_json_from_scalabel()\n",
    "    for _, img in enumerate(scalabel_data):\n",
    "        height, width = extract_params_from_scalabel(img)\n",
    "        label, points = getLabelAndPoints(img)\n",
    "        name = img['name']\n",
    "        anno = []\n",
    "        labels = {}\n",
    "        for i in range(len(label)):\n",
    "            labels = {'label':[label[i]],'shape':'','points':points[i]}\n",
    "            anno.append(labels)\n",
    "        labels.update({'notes':'','imageWidth':width,'imageHeight':height})\n",
    "        dataturk = {}\n",
    "        dataturk['content'] = name\n",
    "        dataturk['annotation'] = anno\n",
    "        metadata = {'first_done_at':'','last_updated_at':'','sec_taken':'','last_updated_by':'','status':'','evaluation':''}\n",
    "        dataturk.update({'extras': '','metadata': metadata})\n",
    "        print(dataturk)"
   ]
  }
 ],
 "metadata": {
  "kernelspec": {
   "display_name": "Python 3",
   "language": "python",
   "name": "python3"
  },
  "language_info": {
   "codemirror_mode": {
    "name": "ipython",
    "version": 3
   },
   "file_extension": ".py",
   "mimetype": "text/x-python",
   "name": "python",
   "nbconvert_exporter": "python",
   "pygments_lexer": "ipython3",
   "version": "3.7.4"
  }
 },
 "nbformat": 4,
 "nbformat_minor": 2
}

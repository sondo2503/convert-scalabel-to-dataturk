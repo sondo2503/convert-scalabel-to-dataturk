{
 "cells": [
  {
   "cell_type": "code",
   "execution_count": null,
   "metadata": {},
   "outputs": [],
   "source": [
    "import os\n",
    "import cv2\n",
    "import json\n",
    "import numpy as np\n",
    "import urllib.request\n",
    "\n",
    "def load_json_from_scalabel():\n",
    "    scalabel_data = []\n",
    "    scalabel_path = '2019-01_vehicle_damages_Results.json'\n",
    "    for json_file in sorted(os.listdir(scalabel_path)):\n",
    "        with open(os.path.join(scalabel_path, json_file)) as f:\n",
    "            data = json.load(f)\n",
    "            scalabel_data.extend(data)\n",
    "    return scalabel_data\n",
    "load_json_from_scalabel()"
   ]
  },
  {
   "cell_type": "code",
   "execution_count": null,
   "metadata": {},
   "outputs": [],
   "source": [
    "def url_to_image(url):\n",
    "    resp = urllib.request.urlopen(url)\n",
    "    image = np.asarray(bytearray(resp.read()), dtype=\"uint8\")\n",
    "    image = cv2.imdecode(image, cv2.IMREAD_COLOR)\n",
    "    return image\n",
    "url_to_image()"
   ]
  },
  {
   "cell_type": "code",
   "execution_count": null,
   "metadata": {},
   "outputs": [],
   "source": [
    "def download_images_from_s3():\n",
    "    scalabel_data = load_json_from_scalabel()\n",
    "    for index, img in enumerate(scalabel_data):\n",
    "        image = url_to_image(img['name'])\n",
    "        image_name = img['name'].replace('/', '_')\n",
    "        cv2.imwrite(image_name, image)\n",
    "    print(index, len(scalabel_data))\n",
    "download_images_from_s3()"
   ]
  },
  {
   "cell_type": "code",
   "execution_count": null,
   "metadata": {},
   "outputs": [],
   "source": [
    "def extract_params_from_scalabel():\n",
    "    points = []\n",
    "    scalabel_data = load_json_from_scalabel()\n",
    "    img_path = ''\n",
    "    label = []\n",
    "    height = []\n",
    "    width = []\n",
    "    for i, img in enumerate(scalabel_data):\n",
    "        try:\n",
    "            for anno in img['labels']:\n",
    "                poly2d_data = anno['poly2d']\n",
    "                label.append(anno['category'])\n",
    "                for p in poly2d_data:\n",
    "                    points.append(p['vertices'])\n",
    "                image_name = img['name'].replace('/', '_')\n",
    "                img = cv2.imread(img_path + image_name)\n",
    "                h, w = img.shape[:2] # This is imageHeight, imageWidth\n",
    "                height.append(h)\n",
    "                width.append(w)\n",
    "        except:\n",
    "            pass\n",
    "    return label,height, width, points\n",
    "extract_params_from_scalabel()"
   ]
  }
 ],
 "metadata": {
  "kernelspec": {
   "display_name": "Python 3",
   "language": "python",
   "name": "python3"
  },
  "language_info": {
   "codemirror_mode": {
    "name": "ipython",
    "version": 3
   },
   "file_extension": ".py",
   "mimetype": "text/x-python",
   "name": "python",
   "nbconvert_exporter": "python",
   "pygments_lexer": "ipython3",
   "version": "3.7.4"
  }
 },
 "nbformat": 4,
 "nbformat_minor": 2
}
